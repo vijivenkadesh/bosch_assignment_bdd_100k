{
 "cells": [
  {
   "cell_type": "code",
   "execution_count": 135,
   "id": "6543aff8-434d-420f-b086-b73fe7c4e85b",
   "metadata": {},
   "outputs": [],
   "source": [
    "import os\n",
    "import json\n",
    "from collections import defaultdict\n",
    "import matplotlib.pyplot as plt\n",
    "import seaborn as sns"
   ]
  },
  {
   "cell_type": "code",
   "execution_count": 77,
   "id": "e20f7d53-068e-4094-b983-8c708c9648a5",
   "metadata": {},
   "outputs": [],
   "source": [
    "DATA_DIR = \"D:/learning_desk/bosch_assignment_bdd_100k/data/bdd100k/\""
   ]
  },
  {
   "cell_type": "code",
   "execution_count": 79,
   "id": "efa9f130-bec8-4d6d-9fea-e0f47c2c7fe4",
   "metadata": {},
   "outputs": [],
   "source": [
    "LABELS_JSON_FILE = os.path.join(DATA_DIR, 'labels/bdd100k_labels_images_train.json')"
   ]
  },
  {
   "cell_type": "code",
   "execution_count": 81,
   "id": "193238c0-7696-4f01-abc1-f75da028078f",
   "metadata": {},
   "outputs": [
    {
     "data": {
      "text/plain": [
       "'D:/learning_desk/bosch_assignment_bdd_100k/data/bdd100k/labels/bdd100k_labels_images_train.json'"
      ]
     },
     "execution_count": 81,
     "metadata": {},
     "output_type": "execute_result"
    }
   ],
   "source": [
    "LABELS_JSON_FILE"
   ]
  },
  {
   "cell_type": "code",
   "execution_count": 73,
   "id": "cdf91c1c-b3b8-41a0-878e-b58f8a1a7337",
   "metadata": {},
   "outputs": [],
   "source": [
    "#Load JSON Labels\n",
    "\n",
    "def load_labels(path):\n",
    "    \"\"\"\"\n",
    "    This function Just loads the JSON labels and  returns them.\n",
    "\n",
    "    Args:\n",
    "    path: The file path of the labels.\n",
    "\n",
    "    Return:\n",
    "    Loaded JSON data.\n",
    "    \"\"\"\n",
    "    with open(file=path, mode='r') as f:\n",
    "        data = json.load(f)\n",
    "    return data"
   ]
  },
  {
   "cell_type": "code",
   "execution_count": 93,
   "id": "1591ff41-1dfd-4e84-9298-528ccb069eec",
   "metadata": {},
   "outputs": [],
   "source": [
    "data = load_labels(path=LABELS_JSON_FILE)"
   ]
  },
  {
   "cell_type": "code",
   "execution_count": 105,
   "id": "2cbf4bd8-981e-4961-ac78-86c734c765f5",
   "metadata": {},
   "outputs": [
    {
     "data": {
      "text/plain": [
       "{'name': '0000f77c-6257be58.jpg',\n",
       " 'attributes': {'weather': 'clear',\n",
       "  'scene': 'city street',\n",
       "  'timeofday': 'daytime'},\n",
       " 'timestamp': 10000,\n",
       " 'labels': [{'category': 'traffic light',\n",
       "   'attributes': {'occluded': False,\n",
       "    'truncated': False,\n",
       "    'trafficLightColor': 'green'},\n",
       "   'manualShape': True,\n",
       "   'manualAttributes': True,\n",
       "   'box2d': {'x1': 1125.902264,\n",
       "    'y1': 133.184488,\n",
       "    'x2': 1156.978645,\n",
       "    'y2': 210.875445},\n",
       "   'id': 0},\n",
       "  {'category': 'traffic light',\n",
       "   'attributes': {'occluded': False,\n",
       "    'truncated': False,\n",
       "    'trafficLightColor': 'green'},\n",
       "   'manualShape': True,\n",
       "   'manualAttributes': True,\n",
       "   'box2d': {'x1': 1156.978645,\n",
       "    'y1': 136.637417,\n",
       "    'x2': 1191.50796,\n",
       "    'y2': 210.875443},\n",
       "   'id': 1},\n",
       "  {'category': 'traffic sign',\n",
       "   'attributes': {'occluded': False,\n",
       "    'truncated': False,\n",
       "    'trafficLightColor': 'none'},\n",
       "   'manualShape': True,\n",
       "   'manualAttributes': True,\n",
       "   'box2d': {'x1': 1101.731743,\n",
       "    'y1': 211.122087,\n",
       "    'x2': 1170.79037,\n",
       "    'y2': 233.566141},\n",
       "   'id': 2},\n",
       "  {'category': 'traffic sign',\n",
       "   'attributes': {'occluded': False,\n",
       "    'truncated': True,\n",
       "    'trafficLightColor': 'none'},\n",
       "   'manualShape': True,\n",
       "   'manualAttributes': True,\n",
       "   'box2d': {'x1': 0, 'y1': 0.246631, 'x2': 100.381647, 'y2': 122.825696},\n",
       "   'id': 3},\n",
       "  {'category': 'car',\n",
       "   'attributes': {'occluded': False,\n",
       "    'truncated': False,\n",
       "    'trafficLightColor': 'none'},\n",
       "   'manualShape': True,\n",
       "   'manualAttributes': True,\n",
       "   'box2d': {'x1': 45.240919,\n",
       "    'y1': 254.530367,\n",
       "    'x2': 357.805838,\n",
       "    'y2': 487.906215},\n",
       "   'id': 4},\n",
       "  {'category': 'car',\n",
       "   'attributes': {'occluded': False,\n",
       "    'truncated': False,\n",
       "    'trafficLightColor': 'none'},\n",
       "   'manualShape': True,\n",
       "   'manualAttributes': True,\n",
       "   'box2d': {'x1': 507.82755,\n",
       "    'y1': 221.727518,\n",
       "    'x2': 908.367588,\n",
       "    'y2': 442.715126},\n",
       "   'id': 5},\n",
       "  {'category': 'traffic sign',\n",
       "   'attributes': {'occluded': False,\n",
       "    'truncated': True,\n",
       "    'trafficLightColor': 'none'},\n",
       "   'manualShape': True,\n",
       "   'manualAttributes': True,\n",
       "   'box2d': {'x1': 0.156955,\n",
       "    'y1': 0.809282,\n",
       "    'x2': 102.417429,\n",
       "    'y2': 133.411856},\n",
       "   'id': 6},\n",
       "  {'category': 'drivable area',\n",
       "   'attributes': {'areaType': 'direct'},\n",
       "   'manualShape': True,\n",
       "   'manualAttributes': True,\n",
       "   'poly2d': [{'vertices': [[1280.195648, 626.372529],\n",
       "      [1280.195648, 371.830705],\n",
       "      [927.081254, 366.839689],\n",
       "      [872.180076, 427.979637],\n",
       "      [658.814135, 450.439209],\n",
       "      [585.196646, 426.731883],\n",
       "      [0, 517.817928],\n",
       "      [0, 602.665203],\n",
       "      [497.853863, 540.2775],\n",
       "      [927.081254, 571.471352],\n",
       "      [1280.195648, 626.372529]],\n",
       "     'types': 'LLLLLLLLCCC',\n",
       "     'closed': True}],\n",
       "   'id': 7},\n",
       "  {'category': 'lane',\n",
       "   'attributes': {'laneDirection': 'parallel',\n",
       "    'laneStyle': 'solid',\n",
       "    'laneType': 'road curb'},\n",
       "   'manualShape': True,\n",
       "   'manualAttributes': True,\n",
       "   'poly2d': [{'vertices': [[503.674413, 373.137193],\n",
       "      [357.797732, 374.672737]],\n",
       "     'types': 'LL',\n",
       "     'closed': False}],\n",
       "   'id': 8},\n",
       "  {'category': 'lane',\n",
       "   'attributes': {'laneDirection': 'parallel',\n",
       "    'laneStyle': 'solid',\n",
       "    'laneType': 'road curb'},\n",
       "   'manualShape': True,\n",
       "   'manualAttributes': True,\n",
       "   'poly2d': [{'vertices': [[62.973282, 371.601649], [0, 368.53056]],\n",
       "     'types': 'LL',\n",
       "     'closed': False}],\n",
       "   'id': 9},\n",
       "  {'category': 'lane',\n",
       "   'attributes': {'laneDirection': 'parallel',\n",
       "    'laneStyle': 'solid',\n",
       "    'laneType': 'road curb'},\n",
       "   'manualShape': True,\n",
       "   'manualAttributes': True,\n",
       "   'poly2d': [{'vertices': [[1274.517503, 376.208281],\n",
       "      [905.986941, 371.601649]],\n",
       "     'types': 'LL',\n",
       "     'closed': False}],\n",
       "   'id': 10}]}"
      ]
     },
     "execution_count": 105,
     "metadata": {},
     "output_type": "execute_result"
    }
   ],
   "source": [
    "data[0]"
   ]
  },
  {
   "cell_type": "code",
   "execution_count": 121,
   "id": "ed0bca83-212e-493c-ab4b-bd6a8ada0add",
   "metadata": {},
   "outputs": [],
   "source": [
    "def label_list(data):\n",
    "    \"\"\"\n",
    "    This function takes the loaded labels and returns the number of classes.\n",
    "    \n",
    "    Args:\n",
    "    data = loaded data from the 'load_labels function'\n",
    "\n",
    "    Returns:\n",
    "    It returns the number of classes from the loaded label data\n",
    "    \n",
    "    \"\"\"\n",
    "    class_count = defaultdict(int)\n",
    "    for item in data:\n",
    "        for label in item['labels']:\n",
    "            class_count[label['category']] += 1\n",
    "    return class_count"
   ]
  },
  {
   "cell_type": "code",
   "execution_count": 123,
   "id": "b456eee1-4af4-4ae3-b064-89ef24f173f8",
   "metadata": {},
   "outputs": [],
   "source": [
    "class_count  = label_list(data)"
   ]
  },
  {
   "cell_type": "code",
   "execution_count": 117,
   "id": "327f9500-8ce1-4e84-9bd3-52edbc32c5ea",
   "metadata": {},
   "outputs": [],
   "source": [
    "import matplotlib.pyplot as plt\n",
    "import seaborn as sns"
   ]
  },
  {
   "cell_type": "code",
   "execution_count": 131,
   "id": "d49f11ec-0f5c-4eb5-bb79-8dadd352af64",
   "metadata": {},
   "outputs": [],
   "source": [
    "def class_distribution_plot(class_count):\n",
    "    \"\"\"\n",
    "    This function plots the class counts Distribution.\n",
    "\n",
    "    Args:\n",
    "    class_count = Number of classes and counts.\n",
    "\n",
    "    Return:\n",
    "    It returns class count plot.\n",
    "    \n",
    "    \"\"\"\n",
    "    plt.figure(figsize=(10, 5))\n",
    "    sns.barplot(x=list(class_count.keys()), y=list(class_count.values()))\n",
    "    plt.xticks(rotation=45)\n",
    "    plt.title(\"Class Distribution Plot\")\n",
    "    plt.show()"
   ]
  },
  {
   "cell_type": "code",
   "execution_count": 133,
   "id": "297f1bd3-8c52-4be1-9f61-42938d8a6ccc",
   "metadata": {},
   "outputs": [
    {
     "data": {
      "image/png": "[encoded data removed]",
      "text/plain": [
       "<Figure size 1000x500 with 1 Axes>"
      ]
     },
     "metadata": {},
     "output_type": "display_data"
    }
   ],
   "source": [
    "class_distribution_plot(class_count)"
   ]
  },
  {
   "cell_type": "code",
   "execution_count": null,
   "id": "9c5a3b73-7ff3-430c-82d1-a279c514c8fc",
   "metadata": {},
   "outputs": [],
   "source": []
  }
 ],
 "metadata": {
  "kernelspec": {
   "display_name": "bosch_env",
   "language": "python",
   "name": "bosch_env"
  },
  "language_info": {
   "codemirror_mode": {
    "name": "ipython",
    "version": 3
   },
   "file_extension": ".py",
   "mimetype": "text/x-python",
   "name": "python",
   "nbconvert_exporter": "python",
   "pygments_lexer": "ipython3",
   "version": "3.12.9"
  }
 },
 "nbformat": 4,
 "nbformat_minor": 5
}
